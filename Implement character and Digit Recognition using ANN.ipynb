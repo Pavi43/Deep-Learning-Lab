{
 "cells": [
  {
   "cell_type": "code",
   "execution_count": null,
   "id": "07ca8148",
   "metadata": {},
   "outputs": [],
   "source": [
    "#Implement character and Digit Recognition using ANN"
   ]
  },
  {
   "cell_type": "code",
   "execution_count": 3,
   "id": "ab99417c",
   "metadata": {},
   "outputs": [],
   "source": [
    "import tensorflow as tf\n",
    "from tensorflow import keras\n",
    "from tensorflow.keras.datasets import mnist\n",
    "from tensorflow.keras.models import Sequential\n",
    "from tensorflow.keras.layers import Dense,Flatten"
   ]
  },
  {
   "cell_type": "code",
   "execution_count": 12,
   "id": "3a6ffff9",
   "metadata": {},
   "outputs": [],
   "source": [
    "(x_train,y_train),(x_test,y_test)=mnist.load_data()\n",
    "x_train=x_train/255.0\n",
    "x_test=x_test/255.0\n"
   ]
  },
  {
   "cell_type": "code",
   "execution_count": 13,
   "id": "240a5dde",
   "metadata": {},
   "outputs": [
    {
     "name": "stdout",
     "output_type": "stream",
     "text": [
      "Epoch 1/5\n",
      "1875/1875 [==============================] - 2s 1ms/step - loss: 0.2630 - accuracy: 0.9257\n",
      "Epoch 2/5\n",
      "1875/1875 [==============================] - 2s 1ms/step - loss: 0.1163 - accuracy: 0.9649\n",
      "Epoch 3/5\n",
      "1875/1875 [==============================] - 2s 1ms/step - loss: 0.0797 - accuracy: 0.9753\n",
      "Epoch 4/5\n",
      "1875/1875 [==============================] - 2s 1ms/step - loss: 0.0601 - accuracy: 0.9814\n",
      "Epoch 5/5\n",
      "1875/1875 [==============================] - 2s 1ms/step - loss: 0.0456 - accuracy: 0.9859\n"
     ]
    },
    {
     "data": {
      "text/plain": [
       "<keras.src.callbacks.History at 0x1fcbae3a310>"
      ]
     },
     "execution_count": 13,
     "metadata": {},
     "output_type": "execute_result"
    }
   ],
   "source": [
    "model=Sequential()\n",
    "model.add(Flatten(input_shape=(28,28)))\n",
    "model.add(Dense(128,activation='relu'))\n",
    "model.add(Dense(10,activation='softmax'))\n",
    "model.compile(optimizer='adam',loss='sparse_categorical_crossentropy',metrics=['accuracy'])\n",
    "model.fit(x_train,y_train,epochs=5,batch_size=32,verbose=1)\n"
   ]
  },
  {
   "cell_type": "code",
   "execution_count": 14,
   "id": "67f73fcf",
   "metadata": {},
   "outputs": [
    {
     "name": "stdout",
     "output_type": "stream",
     "text": [
      "Test accuracy:0.9789999723434448\n",
      "1/1 [==============================] - 0s 49ms/step\n",
      "predicted labels:[7, 2, 1, 0, 4]\n",
      "Actual labels:[7 2 1 0 4]\n"
     ]
    }
   ],
   "source": [
    "test_loss,test_acc=model.evaluate(x_test,y_test,verbose=0)\n",
    "print(f'Test accuracy:{test_acc}')\n",
    "predictions=model.predict(x_test[:5])\n",
    "predicted_labels=[tf.argmax(prediction).numpy()for prediction in predictions]\n",
    "print(f'predicted labels:{predicted_labels}')\n",
    "print(f'Actual labels:{y_test[:5]}')"
   ]
  }
 ],
 "metadata": {
  "kernelspec": {
   "display_name": "Python 3 (ipykernel)",
   "language": "python",
   "name": "python3"
  },
  "language_info": {
   "codemirror_mode": {
    "name": "ipython",
    "version": 3
   },
   "file_extension": ".py",
   "mimetype": "text/x-python",
   "name": "python",
   "nbconvert_exporter": "python",
   "pygments_lexer": "ipython3",
   "version": "3.11.4"
  }
 },
 "nbformat": 4,
 "nbformat_minor": 5
}
